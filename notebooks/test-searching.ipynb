{
 "cells": [
  {
   "cell_type": "markdown",
   "metadata": {},
   "source": [
    "# Capstone Project\n",
    "\n",
    "## *Template Notebook*\n",
    "\n",
    "#### Table of Contents\n",
    "\n",
    "* [Topic 1](#topic-1)\n",
    "* [Topic 2](#topic-2)\n",
    "\n",
    "### Import Libraries & Read in Data"
   ]
  },
  {
   "cell_type": "code",
   "execution_count": 1,
   "metadata": {},
   "outputs": [],
   "source": [
    "## standard imports \n",
    "import pandas as pd \n",
    "import numpy as np\n",
    "import re\n",
    "## visualizations\n",
    "import matplotlib.pyplot as plt\n",
    "import seaborn as sns\n",
    "\n",
    "import spotipy\n",
    "from spotipy.oauth2 import SpotifyClientCredentials\n",
    "\n",
    "## options\n",
    "# pd.options.display.max_rows = 4000\n",
    "# pd.options.display.max_columns = 100\n",
    "# pd.set_option('max_colwidth', 100)"
   ]
  },
  {
   "cell_type": "code",
   "execution_count": 2,
   "metadata": {},
   "outputs": [],
   "source": [
    "### Spotify Credentials - must be set in local environment to run\n",
    "auth_manager = SpotifyClientCredentials()\n",
    "sp = spotipy.Spotify(auth_manager=auth_manager)"
   ]
  },
  {
   "cell_type": "code",
   "execution_count": 22,
   "metadata": {},
   "outputs": [],
   "source": [
    "### test access\n",
    "uri = 'spotify:track:1yjY7rpaAQvKwpdUliHx0d'\n",
    "track = sp.track('spotify:track:1yjY7rpaAQvKwpdUliHx0d')"
   ]
  },
  {
   "cell_type": "code",
   "execution_count": 32,
   "metadata": {},
   "outputs": [],
   "source": [
    "artist_uri = track['artists'][0]['uri']"
   ]
  },
  {
   "cell_type": "code",
   "execution_count": 34,
   "metadata": {},
   "outputs": [],
   "source": [
    "artist = sp.artist(artist_uri)"
   ]
  },
  {
   "cell_type": "code",
   "execution_count": 35,
   "metadata": {},
   "outputs": [
    {
     "data": {
      "text/plain": [
       "['candy pop', 'emo', 'pixie', 'pop emo', 'pop punk']"
      ]
     },
     "execution_count": 35,
     "metadata": {},
     "output_type": "execute_result"
    }
   ],
   "source": [
    "artist['genres']"
   ]
  },
  {
   "cell_type": "code",
   "execution_count": 26,
   "metadata": {},
   "outputs": [],
   "source": [
    "album = sp.album(track['album']['uri'])"
   ]
  },
  {
   "cell_type": "code",
   "execution_count": null,
   "metadata": {},
   "outputs": [],
   "source": []
  },
  {
   "cell_type": "code",
   "execution_count": 28,
   "metadata": {},
   "outputs": [
    {
     "data": {
      "text/plain": [
       "[]"
      ]
     },
     "execution_count": 28,
     "metadata": {},
     "output_type": "execute_result"
    }
   ],
   "source": [
    "album['genres']"
   ]
  },
  {
   "cell_type": "markdown",
   "metadata": {},
   "source": [
    "## Testing Searching <a class=\"anchor\" id=\"topic-1\"></a>\n",
    "<hr/>"
   ]
  },
  {
   "cell_type": "code",
   "execution_count": null,
   "metadata": {},
   "outputs": [],
   "source": []
  },
  {
   "cell_type": "code",
   "execution_count": 92,
   "metadata": {},
   "outputs": [],
   "source": [
    "results = sp.search(q='cardi b genre: \"hip hop\"', type='track',limit=5, market='US')\n",
    "# results"
   ]
  },
  {
   "cell_type": "code",
   "execution_count": 93,
   "metadata": {},
   "outputs": [
    {
     "data": {
      "text/plain": [
       "{'tracks': {'href': 'https://api.spotify.com/v1/search?query=cardi+b+genre%3A+%22hip+hop%22&type=track&market=US&offset=0&limit=5',\n",
       "  'items': [{'album': {'album_type': 'album',\n",
       "     'artists': [{'external_urls': {'spotify': 'https://open.spotify.com/artist/4DdkRBBYG6Yk9Ka8tdJ9BW'},\n",
       "       'href': 'https://api.spotify.com/v1/artists/4DdkRBBYG6Yk9Ka8tdJ9BW',\n",
       "       'id': '4DdkRBBYG6Yk9Ka8tdJ9BW',\n",
       "       'name': 'Offset',\n",
       "       'type': 'artist',\n",
       "       'uri': 'spotify:artist:4DdkRBBYG6Yk9Ka8tdJ9BW'}],\n",
       "     'external_urls': {'spotify': 'https://open.spotify.com/album/6bPpXqJRpjwy0hLyUGtzYc'},\n",
       "     'href': 'https://api.spotify.com/v1/albums/6bPpXqJRpjwy0hLyUGtzYc',\n",
       "     'id': '6bPpXqJRpjwy0hLyUGtzYc',\n",
       "     'images': [{'height': 640,\n",
       "       'url': 'https://i.scdn.co/image/ab67616d0000b2737028679269dc6a5a29ce8f36',\n",
       "       'width': 640},\n",
       "      {'height': 300,\n",
       "       'url': 'https://i.scdn.co/image/ab67616d00001e027028679269dc6a5a29ce8f36',\n",
       "       'width': 300},\n",
       "      {'height': 64,\n",
       "       'url': 'https://i.scdn.co/image/ab67616d000048517028679269dc6a5a29ce8f36',\n",
       "       'width': 64}],\n",
       "     'name': 'FATHER OF 4',\n",
       "     'release_date': '2019-02-22',\n",
       "     'release_date_precision': 'day',\n",
       "     'total_tracks': 16,\n",
       "     'type': 'album',\n",
       "     'uri': 'spotify:album:6bPpXqJRpjwy0hLyUGtzYc'},\n",
       "    'artists': [{'external_urls': {'spotify': 'https://open.spotify.com/artist/4DdkRBBYG6Yk9Ka8tdJ9BW'},\n",
       "      'href': 'https://api.spotify.com/v1/artists/4DdkRBBYG6Yk9Ka8tdJ9BW',\n",
       "      'id': '4DdkRBBYG6Yk9Ka8tdJ9BW',\n",
       "      'name': 'Offset',\n",
       "      'type': 'artist',\n",
       "      'uri': 'spotify:artist:4DdkRBBYG6Yk9Ka8tdJ9BW'},\n",
       "     {'external_urls': {'spotify': 'https://open.spotify.com/artist/4kYSro6naA4h99UJvo89HB'},\n",
       "      'href': 'https://api.spotify.com/v1/artists/4kYSro6naA4h99UJvo89HB',\n",
       "      'id': '4kYSro6naA4h99UJvo89HB',\n",
       "      'name': 'Cardi B',\n",
       "      'type': 'artist',\n",
       "      'uri': 'spotify:artist:4kYSro6naA4h99UJvo89HB'}],\n",
       "    'disc_number': 1,\n",
       "    'duration_ms': 205803,\n",
       "    'explicit': True,\n",
       "    'external_ids': {'isrc': 'USUG11802308'},\n",
       "    'external_urls': {'spotify': 'https://open.spotify.com/track/59ywHNwwchG4nZJMLyxSzd'},\n",
       "    'href': 'https://api.spotify.com/v1/tracks/59ywHNwwchG4nZJMLyxSzd',\n",
       "    'id': '59ywHNwwchG4nZJMLyxSzd',\n",
       "    'is_local': False,\n",
       "    'is_playable': True,\n",
       "    'name': 'Clout (feat. Cardi B)',\n",
       "    'popularity': 73,\n",
       "    'preview_url': None,\n",
       "    'track_number': 12,\n",
       "    'type': 'track',\n",
       "    'uri': 'spotify:track:59ywHNwwchG4nZJMLyxSzd'},\n",
       "   {'album': {'album_type': 'album',\n",
       "     'artists': [{'external_urls': {'spotify': 'https://open.spotify.com/artist/6oMuImdp5ZcFhWP0ESe6mG'},\n",
       "       'href': 'https://api.spotify.com/v1/artists/6oMuImdp5ZcFhWP0ESe6mG',\n",
       "       'id': '6oMuImdp5ZcFhWP0ESe6mG',\n",
       "       'name': 'Migos',\n",
       "       'type': 'artist',\n",
       "       'uri': 'spotify:artist:6oMuImdp5ZcFhWP0ESe6mG'}],\n",
       "     'external_urls': {'spotify': 'https://open.spotify.com/album/7fd7SEK25VS3gJAUgSwL6y'},\n",
       "     'href': 'https://api.spotify.com/v1/albums/7fd7SEK25VS3gJAUgSwL6y',\n",
       "     'id': '7fd7SEK25VS3gJAUgSwL6y',\n",
       "     'images': [{'height': 640,\n",
       "       'url': 'https://i.scdn.co/image/ab67616d0000b2739c188c494d8bfaf895411890',\n",
       "       'width': 640},\n",
       "      {'height': 300,\n",
       "       'url': 'https://i.scdn.co/image/ab67616d00001e029c188c494d8bfaf895411890',\n",
       "       'width': 300},\n",
       "      {'height': 64,\n",
       "       'url': 'https://i.scdn.co/image/ab67616d000048519c188c494d8bfaf895411890',\n",
       "       'width': 64}],\n",
       "     'name': 'Culture II',\n",
       "     'release_date': '2018-01-26',\n",
       "     'release_date_precision': 'day',\n",
       "     'total_tracks': 24,\n",
       "     'type': 'album',\n",
       "     'uri': 'spotify:album:7fd7SEK25VS3gJAUgSwL6y'},\n",
       "    'artists': [{'external_urls': {'spotify': 'https://open.spotify.com/artist/6oMuImdp5ZcFhWP0ESe6mG'},\n",
       "      'href': 'https://api.spotify.com/v1/artists/6oMuImdp5ZcFhWP0ESe6mG',\n",
       "      'id': '6oMuImdp5ZcFhWP0ESe6mG',\n",
       "      'name': 'Migos',\n",
       "      'type': 'artist',\n",
       "      'uri': 'spotify:artist:6oMuImdp5ZcFhWP0ESe6mG'},\n",
       "     {'external_urls': {'spotify': 'https://open.spotify.com/artist/0hCNtLu0JehylgoiP8L4Gh'},\n",
       "      'href': 'https://api.spotify.com/v1/artists/0hCNtLu0JehylgoiP8L4Gh',\n",
       "      'id': '0hCNtLu0JehylgoiP8L4Gh',\n",
       "      'name': 'Nicki Minaj',\n",
       "      'type': 'artist',\n",
       "      'uri': 'spotify:artist:0hCNtLu0JehylgoiP8L4Gh'},\n",
       "     {'external_urls': {'spotify': 'https://open.spotify.com/artist/4kYSro6naA4h99UJvo89HB'},\n",
       "      'href': 'https://api.spotify.com/v1/artists/4kYSro6naA4h99UJvo89HB',\n",
       "      'id': '4kYSro6naA4h99UJvo89HB',\n",
       "      'name': 'Cardi B',\n",
       "      'type': 'artist',\n",
       "      'uri': 'spotify:artist:4kYSro6naA4h99UJvo89HB'}],\n",
       "    'disc_number': 1,\n",
       "    'duration_ms': 303076,\n",
       "    'explicit': True,\n",
       "    'external_ids': {'isrc': 'USUM71712002'},\n",
       "    'external_urls': {'spotify': 'https://open.spotify.com/track/4wFjTWCunQFKtukqrNijEt'},\n",
       "    'href': 'https://api.spotify.com/v1/tracks/4wFjTWCunQFKtukqrNijEt',\n",
       "    'id': '4wFjTWCunQFKtukqrNijEt',\n",
       "    'is_local': False,\n",
       "    'is_playable': True,\n",
       "    'name': 'MotorSport',\n",
       "    'popularity': 74,\n",
       "    'preview_url': None,\n",
       "    'track_number': 17,\n",
       "    'type': 'track',\n",
       "    'uri': 'spotify:track:4wFjTWCunQFKtukqrNijEt'},\n",
       "   {'album': {'album_type': 'album',\n",
       "     'artists': [{'external_urls': {'spotify': 'https://open.spotify.com/artist/02kJSzxNuaWGqwubyUba0Z'},\n",
       "       'href': 'https://api.spotify.com/v1/artists/02kJSzxNuaWGqwubyUba0Z',\n",
       "       'id': '02kJSzxNuaWGqwubyUba0Z',\n",
       "       'name': 'G-Eazy',\n",
       "       'type': 'artist',\n",
       "       'uri': 'spotify:artist:02kJSzxNuaWGqwubyUba0Z'}],\n",
       "     'external_urls': {'spotify': 'https://open.spotify.com/album/1VAc77UvK5wj8ZSWCo3V2b'},\n",
       "     'href': 'https://api.spotify.com/v1/albums/1VAc77UvK5wj8ZSWCo3V2b',\n",
       "     'id': '1VAc77UvK5wj8ZSWCo3V2b',\n",
       "     'images': [{'height': 640,\n",
       "       'url': 'https://i.scdn.co/image/ab67616d0000b273046527a9c176f7c2916f3530',\n",
       "       'width': 640},\n",
       "      {'height': 300,\n",
       "       'url': 'https://i.scdn.co/image/ab67616d00001e02046527a9c176f7c2916f3530',\n",
       "       'width': 300},\n",
       "      {'height': 64,\n",
       "       'url': 'https://i.scdn.co/image/ab67616d00004851046527a9c176f7c2916f3530',\n",
       "       'width': 64}],\n",
       "     'name': 'The Beautiful & Damned',\n",
       "     'release_date': '2017-12-15',\n",
       "     'release_date_precision': 'day',\n",
       "     'total_tracks': 20,\n",
       "     'type': 'album',\n",
       "     'uri': 'spotify:album:1VAc77UvK5wj8ZSWCo3V2b'},\n",
       "    'artists': [{'external_urls': {'spotify': 'https://open.spotify.com/artist/02kJSzxNuaWGqwubyUba0Z'},\n",
       "      'href': 'https://api.spotify.com/v1/artists/02kJSzxNuaWGqwubyUba0Z',\n",
       "      'id': '02kJSzxNuaWGqwubyUba0Z',\n",
       "      'name': 'G-Eazy',\n",
       "      'type': 'artist',\n",
       "      'uri': 'spotify:artist:02kJSzxNuaWGqwubyUba0Z'},\n",
       "     {'external_urls': {'spotify': 'https://open.spotify.com/artist/13ubrt8QOOCPljQ2FL1Kca'},\n",
       "      'href': 'https://api.spotify.com/v1/artists/13ubrt8QOOCPljQ2FL1Kca',\n",
       "      'id': '13ubrt8QOOCPljQ2FL1Kca',\n",
       "      'name': 'A$AP Rocky',\n",
       "      'type': 'artist',\n",
       "      'uri': 'spotify:artist:13ubrt8QOOCPljQ2FL1Kca'},\n",
       "     {'external_urls': {'spotify': 'https://open.spotify.com/artist/4kYSro6naA4h99UJvo89HB'},\n",
       "      'href': 'https://api.spotify.com/v1/artists/4kYSro6naA4h99UJvo89HB',\n",
       "      'id': '4kYSro6naA4h99UJvo89HB',\n",
       "      'name': 'Cardi B',\n",
       "      'type': 'artist',\n",
       "      'uri': 'spotify:artist:4kYSro6naA4h99UJvo89HB'}],\n",
       "    'disc_number': 1,\n",
       "    'duration_ms': 245386,\n",
       "    'explicit': True,\n",
       "    'external_ids': {'isrc': 'USRC11702117'},\n",
       "    'external_urls': {'spotify': 'https://open.spotify.com/track/2DQ1ITjI0YoLFzuADN1ZBW'},\n",
       "    'href': 'https://api.spotify.com/v1/tracks/2DQ1ITjI0YoLFzuADN1ZBW',\n",
       "    'id': '2DQ1ITjI0YoLFzuADN1ZBW',\n",
       "    'is_local': False,\n",
       "    'is_playable': True,\n",
       "    'name': 'No Limit',\n",
       "    'popularity': 74,\n",
       "    'preview_url': 'https://p.scdn.co/mp3-preview/6dbc7ab9e6d39c167e3149f0354639af246be8e5?cid=c85f43a5a7004946996bc22659dd8de6',\n",
       "    'track_number': 7,\n",
       "    'type': 'track',\n",
       "    'uri': 'spotify:track:2DQ1ITjI0YoLFzuADN1ZBW'},\n",
       "   {'album': {'album_type': 'album',\n",
       "     'artists': [{'external_urls': {'spotify': 'https://open.spotify.com/artist/0QHgL1lAIqAw0HtD7YldmP'},\n",
       "       'href': 'https://api.spotify.com/v1/artists/0QHgL1lAIqAw0HtD7YldmP',\n",
       "       'id': '0QHgL1lAIqAw0HtD7YldmP',\n",
       "       'name': 'DJ Khaled',\n",
       "       'type': 'artist',\n",
       "       'uri': 'spotify:artist:0QHgL1lAIqAw0HtD7YldmP'}],\n",
       "     'external_urls': {'spotify': 'https://open.spotify.com/album/1YgX8BWKleDlDeCOFklRfz'},\n",
       "     'href': 'https://api.spotify.com/v1/albums/1YgX8BWKleDlDeCOFklRfz',\n",
       "     'id': '1YgX8BWKleDlDeCOFklRfz',\n",
       "     'images': [{'height': 640,\n",
       "       'url': 'https://i.scdn.co/image/ab67616d0000b273fa2741071b31bb94cb4232ae',\n",
       "       'width': 640},\n",
       "      {'height': 300,\n",
       "       'url': 'https://i.scdn.co/image/ab67616d00001e02fa2741071b31bb94cb4232ae',\n",
       "       'width': 300},\n",
       "      {'height': 64,\n",
       "       'url': 'https://i.scdn.co/image/ab67616d00004851fa2741071b31bb94cb4232ae',\n",
       "       'width': 64}],\n",
       "     'name': 'Father Of Asahd',\n",
       "     'release_date': '2019-05-17',\n",
       "     'release_date_precision': 'day',\n",
       "     'total_tracks': 15,\n",
       "     'type': 'album',\n",
       "     'uri': 'spotify:album:1YgX8BWKleDlDeCOFklRfz'},\n",
       "    'artists': [{'external_urls': {'spotify': 'https://open.spotify.com/artist/0QHgL1lAIqAw0HtD7YldmP'},\n",
       "      'href': 'https://api.spotify.com/v1/artists/0QHgL1lAIqAw0HtD7YldmP',\n",
       "      'id': '0QHgL1lAIqAw0HtD7YldmP',\n",
       "      'name': 'DJ Khaled',\n",
       "      'type': 'artist',\n",
       "      'uri': 'spotify:artist:0QHgL1lAIqAw0HtD7YldmP'},\n",
       "     {'external_urls': {'spotify': 'https://open.spotify.com/artist/4kYSro6naA4h99UJvo89HB'},\n",
       "      'href': 'https://api.spotify.com/v1/artists/4kYSro6naA4h99UJvo89HB',\n",
       "      'id': '4kYSro6naA4h99UJvo89HB',\n",
       "      'name': 'Cardi B',\n",
       "      'type': 'artist',\n",
       "      'uri': 'spotify:artist:4kYSro6naA4h99UJvo89HB'},\n",
       "     {'external_urls': {'spotify': 'https://open.spotify.com/artist/1URnnhqYAYcrqrcwql10ft'},\n",
       "      'href': 'https://api.spotify.com/v1/artists/1URnnhqYAYcrqrcwql10ft',\n",
       "      'id': '1URnnhqYAYcrqrcwql10ft',\n",
       "      'name': '21 Savage',\n",
       "      'type': 'artist',\n",
       "      'uri': 'spotify:artist:1URnnhqYAYcrqrcwql10ft'}],\n",
       "    'disc_number': 1,\n",
       "    'duration_ms': 202625,\n",
       "    'explicit': True,\n",
       "    'external_ids': {'isrc': 'USSM11903535'},\n",
       "    'external_urls': {'spotify': 'https://open.spotify.com/track/1Hd2XLitkt1PYCWSbfF5qV'},\n",
       "    'href': 'https://api.spotify.com/v1/tracks/1Hd2XLitkt1PYCWSbfF5qV',\n",
       "    'id': '1Hd2XLitkt1PYCWSbfF5qV',\n",
       "    'is_local': False,\n",
       "    'is_playable': True,\n",
       "    'name': 'Wish Wish (feat. Cardi B & 21 Savage)',\n",
       "    'popularity': 67,\n",
       "    'preview_url': 'https://p.scdn.co/mp3-preview/9f0f42ee3e0dee6590c4aaf3e639edc765b1ae4a?cid=c85f43a5a7004946996bc22659dd8de6',\n",
       "    'track_number': 2,\n",
       "    'type': 'track',\n",
       "    'uri': 'spotify:track:1Hd2XLitkt1PYCWSbfF5qV'},\n",
       "   {'album': {'album_type': 'single',\n",
       "     'artists': [{'external_urls': {'spotify': 'https://open.spotify.com/artist/7jVv8c5Fj3E9VhNjxT4snq'},\n",
       "       'href': 'https://api.spotify.com/v1/artists/7jVv8c5Fj3E9VhNjxT4snq',\n",
       "       'id': '7jVv8c5Fj3E9VhNjxT4snq',\n",
       "       'name': 'Lil Nas X',\n",
       "       'type': 'artist',\n",
       "       'uri': 'spotify:artist:7jVv8c5Fj3E9VhNjxT4snq'}],\n",
       "     'external_urls': {'spotify': 'https://open.spotify.com/album/4IRiXE5NROxknUSAUSjMoO'},\n",
       "     'href': 'https://api.spotify.com/v1/albums/4IRiXE5NROxknUSAUSjMoO',\n",
       "     'id': '4IRiXE5NROxknUSAUSjMoO',\n",
       "     'images': [{'height': 640,\n",
       "       'url': 'https://i.scdn.co/image/ab67616d0000b273c0e7bf5cdd630f314f20586a',\n",
       "       'width': 640},\n",
       "      {'height': 300,\n",
       "       'url': 'https://i.scdn.co/image/ab67616d00001e02c0e7bf5cdd630f314f20586a',\n",
       "       'width': 300},\n",
       "      {'height': 64,\n",
       "       'url': 'https://i.scdn.co/image/ab67616d00004851c0e7bf5cdd630f314f20586a',\n",
       "       'width': 64}],\n",
       "     'name': '7 EP',\n",
       "     'release_date': '2019-06-21',\n",
       "     'release_date_precision': 'day',\n",
       "     'total_tracks': 8,\n",
       "     'type': 'album',\n",
       "     'uri': 'spotify:album:4IRiXE5NROxknUSAUSjMoO'},\n",
       "    'artists': [{'external_urls': {'spotify': 'https://open.spotify.com/artist/7jVv8c5Fj3E9VhNjxT4snq'},\n",
       "      'href': 'https://api.spotify.com/v1/artists/7jVv8c5Fj3E9VhNjxT4snq',\n",
       "      'id': '7jVv8c5Fj3E9VhNjxT4snq',\n",
       "      'name': 'Lil Nas X',\n",
       "      'type': 'artist',\n",
       "      'uri': 'spotify:artist:7jVv8c5Fj3E9VhNjxT4snq'},\n",
       "     {'external_urls': {'spotify': 'https://open.spotify.com/artist/4kYSro6naA4h99UJvo89HB'},\n",
       "      'href': 'https://api.spotify.com/v1/artists/4kYSro6naA4h99UJvo89HB',\n",
       "      'id': '4kYSro6naA4h99UJvo89HB',\n",
       "      'name': 'Cardi B',\n",
       "      'type': 'artist',\n",
       "      'uri': 'spotify:artist:4kYSro6naA4h99UJvo89HB'}],\n",
       "    'disc_number': 1,\n",
       "    'duration_ms': 158706,\n",
       "    'explicit': True,\n",
       "    'external_ids': {'isrc': 'USSM11903951'},\n",
       "    'external_urls': {'spotify': 'https://open.spotify.com/track/4ak7xjvBeBOcJGWFDX9w5n'},\n",
       "    'href': 'https://api.spotify.com/v1/tracks/4ak7xjvBeBOcJGWFDX9w5n',\n",
       "    'id': '4ak7xjvBeBOcJGWFDX9w5n',\n",
       "    'is_local': False,\n",
       "    'is_playable': True,\n",
       "    'name': 'Rodeo',\n",
       "    'popularity': 73,\n",
       "    'preview_url': 'https://p.scdn.co/mp3-preview/f618f9939f60ff4db2122bfd45a7e58be558d583?cid=c85f43a5a7004946996bc22659dd8de6',\n",
       "    'track_number': 5,\n",
       "    'type': 'track',\n",
       "    'uri': 'spotify:track:4ak7xjvBeBOcJGWFDX9w5n'}],\n",
       "  'limit': 5,\n",
       "  'next': 'https://api.spotify.com/v1/search?query=cardi+b+genre%3A+%22hip+hop%22&type=track&market=US&offset=5&limit=5',\n",
       "  'offset': 0,\n",
       "  'previous': None,\n",
       "  'total': 134}}"
      ]
     },
     "execution_count": 93,
     "metadata": {},
     "output_type": "execute_result"
    }
   ],
   "source": [
    "results"
   ]
  },
  {
   "cell_type": "markdown",
   "metadata": {},
   "source": [
    "You don't need to use the stupid syntax on Spotify API docs. Looks like Spotipy cleans up whatever you enter in as a string here."
   ]
  },
  {
   "cell_type": "code",
   "execution_count": 72,
   "metadata": {},
   "outputs": [],
   "source": [
    "# results"
   ]
  },
  {
   "cell_type": "code",
   "execution_count": 87,
   "metadata": {},
   "outputs": [
    {
     "data": {
      "text/plain": [
       "dict_keys(['album', 'artists', 'disc_number', 'duration_ms', 'explicit', 'external_ids', 'external_urls', 'href', 'id', 'is_local', 'is_playable', 'name', 'popularity', 'preview_url', 'track_number', 'type', 'uri'])"
      ]
     },
     "execution_count": 87,
     "metadata": {},
     "output_type": "execute_result"
    }
   ],
   "source": [
    "results['tracks']['items'][0].keys()"
   ]
  },
  {
   "cell_type": "code",
   "execution_count": 82,
   "metadata": {},
   "outputs": [
    {
     "data": {
      "text/plain": [
       "{'album_type': 'album',\n",
       " 'artists': [{'external_urls': {'spotify': 'https://open.spotify.com/artist/15UsOTVnJzReFVN1VCnxy4'},\n",
       "   'href': 'https://api.spotify.com/v1/artists/15UsOTVnJzReFVN1VCnxy4',\n",
       "   'id': '15UsOTVnJzReFVN1VCnxy4',\n",
       "   'name': 'XXXTENTACION',\n",
       "   'type': 'artist',\n",
       "   'uri': 'spotify:artist:15UsOTVnJzReFVN1VCnxy4'}],\n",
       " 'external_urls': {'spotify': 'https://open.spotify.com/album/2Ti79nwTsont5ZHfdxIzAm'},\n",
       " 'href': 'https://api.spotify.com/v1/albums/2Ti79nwTsont5ZHfdxIzAm',\n",
       " 'id': '2Ti79nwTsont5ZHfdxIzAm',\n",
       " 'images': [{'height': 640,\n",
       "   'url': 'https://i.scdn.co/image/ab67616d0000b273806c160566580d6335d1f16c',\n",
       "   'width': 640},\n",
       "  {'height': 300,\n",
       "   'url': 'https://i.scdn.co/image/ab67616d00001e02806c160566580d6335d1f16c',\n",
       "   'width': 300},\n",
       "  {'height': 64,\n",
       "   'url': 'https://i.scdn.co/image/ab67616d00004851806c160566580d6335d1f16c',\n",
       "   'width': 64}],\n",
       " 'name': '?',\n",
       " 'release_date': '2018-03-16',\n",
       " 'release_date_precision': 'day',\n",
       " 'total_tracks': 18,\n",
       " 'type': 'album',\n",
       " 'uri': 'spotify:album:2Ti79nwTsont5ZHfdxIzAm'}"
      ]
     },
     "execution_count": 82,
     "metadata": {},
     "output_type": "execute_result"
    }
   ],
   "source": [
    "results['tracks']['items'][0]['album']"
   ]
  },
  {
   "cell_type": "code",
   "execution_count": 91,
   "metadata": {},
   "outputs": [
    {
     "name": "stdout",
     "output_type": "stream",
     "text": [
      "NAME:  Laugh Now Cry Later (feat. Lil Durk)  TYPE  track\n",
      "NAME:  ROCKSTAR (feat. Roddy Ricch)  TYPE  track\n",
      "NAME:  POPSTAR (feat. Drake)  TYPE  track\n",
      "NAME:  WHATS POPPIN (feat. DaBaby, Tory Lanez & Lil Wayne) - Remix  TYPE  track\n",
      "NAME:  Mr. Right Now (feat. Drake)  TYPE  track\n",
      "spotify:track:2SAqBLGA283SUiwJ3xOUVI\n",
      "spotify:track:7ytR5pFWmSjzHJIeQkgog4\n",
      "spotify:track:6EDO9iiTtwNv6waLwa1UUq\n",
      "spotify:track:2MbdDtCv5LUVjYy9RuGTgC\n",
      "spotify:track:4Q34FP1AT7GEl9oLgNtiWj\n"
     ]
    }
   ],
   "source": [
    "# results['tracks']['items']\n",
    "\n",
    "for i in range(len(results['tracks']['items'])):\n",
    "    \n",
    "    print('NAME: ', results['tracks']['items'][i]['name'], ' TYPE ', results['tracks']['items'][i]['type'])\n",
    "\n",
    "for i in range(len(results['tracks']['items'])):\n",
    "    print(results['tracks']['items'][i]['uri'])"
   ]
  },
  {
   "cell_type": "code",
   "execution_count": 63,
   "metadata": {},
   "outputs": [
    {
     "name": "stdout",
     "output_type": "stream",
     "text": [
      "Hope\n",
      "Hopeless Romantic (feat. Swae Lee)\n",
      "Pony\n",
      "Hop Off A Jet (feat. Travis Scott)\n",
      "Hip Hop Hooray\n",
      "Ill Mind of Hopsin 5\n",
      "Ice Ice Baby\n",
      "Ill Mind of Hopsin 8\n",
      "Tipsy - Club Mix\n",
      "Hope Your Dreams Come True\n"
     ]
    }
   ],
   "source": [
    "for i in range(len(results['tracks']['items'])):\n",
    "    print(results['tracks']['items'][i]['name'])"
   ]
  },
  {
   "cell_type": "code",
   "execution_count": 54,
   "metadata": {},
   "outputs": [
    {
     "data": {
      "text/plain": [
       "{'href': 'https://api.spotify.com/v1/search?query=genre%3A+hip+hop&type=artist&offset=0&limit=10',\n",
       " 'items': [{'external_urls': {'spotify': 'https://open.spotify.com/artist/7EWU4FhUJM1sZQgQKdENeT'},\n",
       "   'followers': {'href': None, 'total': 1740918},\n",
       "   'genres': ['conscious hip hop', 'hip hop', 'pop rap', 'rap'],\n",
       "   'href': 'https://api.spotify.com/v1/artists/7EWU4FhUJM1sZQgQKdENeT',\n",
       "   'id': '7EWU4FhUJM1sZQgQKdENeT',\n",
       "   'images': [{'height': 640,\n",
       "     'url': 'https://i.scdn.co/image/f63366e13ad4c40ff2595be8ee0f5e2268d606f5',\n",
       "     'width': 640},\n",
       "    {'height': 320,\n",
       "     'url': 'https://i.scdn.co/image/e5ca26a6e157156cb4c3e8cdde2e7e082deb2951',\n",
       "     'width': 320},\n",
       "    {'height': 160,\n",
       "     'url': 'https://i.scdn.co/image/daf89479ee9cc953e07a03ad7d798ebff3c73baf',\n",
       "     'width': 160}],\n",
       "   'name': 'Hopsin',\n",
       "   'popularity': 70,\n",
       "   'type': 'artist',\n",
       "   'uri': 'spotify:artist:7EWU4FhUJM1sZQgQKdENeT'},\n",
       "  {'external_urls': {'spotify': 'https://open.spotify.com/artist/0vLuOi2k62sHujIfplInlK'},\n",
       "   'followers': {'href': None, 'total': 5784338},\n",
       "   'genres': ['brazilian edm',\n",
       "    'brazilian hip hop',\n",
       "    'rap df',\n",
       "    'trap brasileiro'],\n",
       "   'href': 'https://api.spotify.com/v1/artists/0vLuOi2k62sHujIfplInlK',\n",
       "   'id': '0vLuOi2k62sHujIfplInlK',\n",
       "   'images': [{'height': 640,\n",
       "     'url': 'https://i.scdn.co/image/bb4936e06e18093737481ce9968b621a76ae6a8b',\n",
       "     'width': 640},\n",
       "    {'height': 320,\n",
       "     'url': 'https://i.scdn.co/image/a7ea2ca501d97403d3fe94af05d47e5cb79813a1',\n",
       "     'width': 320},\n",
       "    {'height': 160,\n",
       "     'url': 'https://i.scdn.co/image/4480f4eadd6e9270d35ce944d413d3ecf8499965',\n",
       "     'width': 160}],\n",
       "   'name': 'Hungria Hip Hop',\n",
       "   'popularity': 78,\n",
       "   'type': 'artist',\n",
       "   'uri': 'spotify:artist:0vLuOi2k62sHujIfplInlK'},\n",
       "  {'external_urls': {'spotify': 'https://open.spotify.com/artist/2eR1Z2cyHOS4gFgA2GbRl8'},\n",
       "   'followers': {'href': None, 'total': 3330},\n",
       "   'genres': ['christian hip hop', 'christian trap'],\n",
       "   'href': 'https://api.spotify.com/v1/artists/2eR1Z2cyHOS4gFgA2GbRl8',\n",
       "   'id': '2eR1Z2cyHOS4gFgA2GbRl8',\n",
       "   'images': [{'height': 640,\n",
       "     'url': 'https://i.scdn.co/image/a4df55ea79983f74b35c0da6e64064e504403d3d',\n",
       "     'width': 640},\n",
       "    {'height': 320,\n",
       "     'url': 'https://i.scdn.co/image/b6f41bb483f52b0efe5cb104053a38b7a6b4ef88',\n",
       "     'width': 320},\n",
       "    {'height': 160,\n",
       "     'url': 'https://i.scdn.co/image/4424698b6dd6f3b68d117ce1a001f1c5ca790a48',\n",
       "     'width': 160}],\n",
       "   'name': 'Kurtis Hoppie',\n",
       "   'popularity': 41,\n",
       "   'type': 'artist',\n",
       "   'uri': 'spotify:artist:2eR1Z2cyHOS4gFgA2GbRl8'},\n",
       "  {'external_urls': {'spotify': 'https://open.spotify.com/artist/7zFBW2JxM4bgTTKxCRcS8Q'},\n",
       "   'followers': {'href': None, 'total': 1397079},\n",
       "   'genres': ['deep indian pop', 'desi hip hop', 'tamil hip hop', 'tamil pop'],\n",
       "   'href': 'https://api.spotify.com/v1/artists/7zFBW2JxM4bgTTKxCRcS8Q',\n",
       "   'id': '7zFBW2JxM4bgTTKxCRcS8Q',\n",
       "   'images': [{'height': 640,\n",
       "     'url': 'https://i.scdn.co/image/6cd17c18cff77aca9a18c151c3b80227bc854672',\n",
       "     'width': 640},\n",
       "    {'height': 320,\n",
       "     'url': 'https://i.scdn.co/image/f3dbed7c5e9fc0b2fc7a7f9b5794490cbb8af814',\n",
       "     'width': 320},\n",
       "    {'height': 160,\n",
       "     'url': 'https://i.scdn.co/image/05544341197c12775ce489a902d98f1e0d9c5e55',\n",
       "     'width': 160}],\n",
       "   'name': 'Hiphop Tamizha',\n",
       "   'popularity': 65,\n",
       "   'type': 'artist',\n",
       "   'uri': 'spotify:artist:7zFBW2JxM4bgTTKxCRcS8Q'},\n",
       "  {'external_urls': {'spotify': 'https://open.spotify.com/artist/4XCsXbYymp4llp1QsK5aEm'},\n",
       "   'followers': {'href': None, 'total': 461},\n",
       "   'genres': ['jewish hip hop'],\n",
       "   'href': 'https://api.spotify.com/v1/artists/4XCsXbYymp4llp1QsK5aEm',\n",
       "   'id': '4XCsXbYymp4llp1QsK5aEm',\n",
       "   'images': [{'height': 640,\n",
       "     'url': 'https://i.scdn.co/image/808fd0f63fd357570def79d7b2f1856f12e43e92',\n",
       "     'width': 640},\n",
       "    {'height': 320,\n",
       "     'url': 'https://i.scdn.co/image/aba30ff623a19a969970512ee4a1a9e9dd0cd41b',\n",
       "     'width': 320},\n",
       "    {'height': 160,\n",
       "     'url': 'https://i.scdn.co/image/d5824a1f8dbf3976525c2cb82670b875768be8fe',\n",
       "     'width': 160}],\n",
       "   'name': 'Hip Hop Hoodíos',\n",
       "   'popularity': 23,\n",
       "   'type': 'artist',\n",
       "   'uri': 'spotify:artist:4XCsXbYymp4llp1QsK5aEm'},\n",
       "  {'external_urls': {'spotify': 'https://open.spotify.com/artist/7HErCBVlWOcsEp5kDGrDZe'},\n",
       "   'followers': {'href': None, 'total': 500},\n",
       "   'genres': ['cantopop', 'hong kong hip hop'],\n",
       "   'href': 'https://api.spotify.com/v1/artists/7HErCBVlWOcsEp5kDGrDZe',\n",
       "   'id': '7HErCBVlWOcsEp5kDGrDZe',\n",
       "   'images': [{'height': 640,\n",
       "     'url': 'https://i.scdn.co/image/ab67616d0000b273020b78a24a0b7fe0e13adc5f',\n",
       "     'width': 640},\n",
       "    {'height': 300,\n",
       "     'url': 'https://i.scdn.co/image/ab67616d00001e02020b78a24a0b7fe0e13adc5f',\n",
       "     'width': 300},\n",
       "    {'height': 64,\n",
       "     'url': 'https://i.scdn.co/image/ab67616d00004851020b78a24a0b7fe0e13adc5f',\n",
       "     'width': 64}],\n",
       "   'name': 'Retroll Hip Hop 重操嘻哈',\n",
       "   'popularity': 27,\n",
       "   'type': 'artist',\n",
       "   'uri': 'spotify:artist:7HErCBVlWOcsEp5kDGrDZe'},\n",
       "  {'external_urls': {'spotify': 'https://open.spotify.com/artist/2Tr0mJ3E4bL4CqVb4lHoUH'},\n",
       "   'followers': {'href': None, 'total': 12427},\n",
       "   'genres': ['peruvian hip hop', 'trap peruano'],\n",
       "   'href': 'https://api.spotify.com/v1/artists/2Tr0mJ3E4bL4CqVb4lHoUH',\n",
       "   'id': '2Tr0mJ3E4bL4CqVb4lHoUH',\n",
       "   'images': [{'height': 640,\n",
       "     'url': 'https://i.scdn.co/image/14a2befd8f11b91e48b37c6d66a7d74caf99e062',\n",
       "     'width': 640},\n",
       "    {'height': 320,\n",
       "     'url': 'https://i.scdn.co/image/44bb0421d61e54442808d9235444d2284d0bb948',\n",
       "     'width': 320},\n",
       "    {'height': 160,\n",
       "     'url': 'https://i.scdn.co/image/e371b8fc5dccbd06c34ddedb1320d77728a5875a',\n",
       "     'width': 160}],\n",
       "   'name': 'Hip Hop Peruano Mas Na',\n",
       "   'popularity': 32,\n",
       "   'type': 'artist',\n",
       "   'uri': 'spotify:artist:2Tr0mJ3E4bL4CqVb4lHoUH'},\n",
       "  {'external_urls': {'spotify': 'https://open.spotify.com/artist/0Pk4JEXgC64RBmovnQDZ27'},\n",
       "   'followers': {'href': None, 'total': 16673},\n",
       "   'genres': ['indonesian hip hop'],\n",
       "   'href': 'https://api.spotify.com/v1/artists/0Pk4JEXgC64RBmovnQDZ27',\n",
       "   'id': '0Pk4JEXgC64RBmovnQDZ27',\n",
       "   'images': [{'height': 640,\n",
       "     'url': 'https://i.scdn.co/image/ab67616d0000b273de748fd3eed32d64ee85fce8',\n",
       "     'width': 640},\n",
       "    {'height': 300,\n",
       "     'url': 'https://i.scdn.co/image/ab67616d00001e02de748fd3eed32d64ee85fce8',\n",
       "     'width': 300},\n",
       "    {'height': 64,\n",
       "     'url': 'https://i.scdn.co/image/ab67616d00004851de748fd3eed32d64ee85fce8',\n",
       "     'width': 64}],\n",
       "   'name': 'Jogja Hip Hop Foundation',\n",
       "   'popularity': 36,\n",
       "   'type': 'artist',\n",
       "   'uri': 'spotify:artist:0Pk4JEXgC64RBmovnQDZ27'},\n",
       "  {'external_urls': {'spotify': 'https://open.spotify.com/artist/4EVHY5uEjTnpp4gtCyqQ1b'},\n",
       "   'followers': {'href': None, 'total': 235},\n",
       "   'genres': ['canadian indigenous hip hop'],\n",
       "   'href': 'https://api.spotify.com/v1/artists/4EVHY5uEjTnpp4gtCyqQ1b',\n",
       "   'id': '4EVHY5uEjTnpp4gtCyqQ1b',\n",
       "   'images': [{'height': 640,\n",
       "     'url': 'https://i.scdn.co/image/38769a1b82bf975970099a5b372e58b4c6711718',\n",
       "     'width': 640},\n",
       "    {'height': 320,\n",
       "     'url': 'https://i.scdn.co/image/c664c0082ce1cd63047c0a517545f3e853728ef4',\n",
       "     'width': 320},\n",
       "    {'height': 160,\n",
       "     'url': 'https://i.scdn.co/image/f39f5ca5ef04103c8717487429abf87f7f1de520',\n",
       "     'width': 160}],\n",
       "   'name': 'Hope',\n",
       "   'popularity': 12,\n",
       "   'type': 'artist',\n",
       "   'uri': 'spotify:artist:4EVHY5uEjTnpp4gtCyqQ1b'},\n",
       "  {'external_urls': {'spotify': 'https://open.spotify.com/artist/21s0zxVvegIST7lKhAYe3K'},\n",
       "   'followers': {'href': None, 'total': 150},\n",
       "   'genres': ['outer hip hop', 'winnipeg hip hop'],\n",
       "   'href': 'https://api.spotify.com/v1/artists/21s0zxVvegIST7lKhAYe3K',\n",
       "   'id': '21s0zxVvegIST7lKhAYe3K',\n",
       "   'images': [{'height': 640,\n",
       "     'url': 'https://i.scdn.co/image/ab67616d0000b27340483c7b082d891329143aca',\n",
       "     'width': 640},\n",
       "    {'height': 300,\n",
       "     'url': 'https://i.scdn.co/image/ab67616d00001e0240483c7b082d891329143aca',\n",
       "     'width': 300},\n",
       "    {'height': 64,\n",
       "     'url': 'https://i.scdn.co/image/ab67616d0000485140483c7b082d891329143aca',\n",
       "     'width': 64}],\n",
       "   'name': 'Hip-Hop Wieners',\n",
       "   'popularity': 2,\n",
       "   'type': 'artist',\n",
       "   'uri': 'spotify:artist:21s0zxVvegIST7lKhAYe3K'}],\n",
       " 'limit': 10,\n",
       " 'next': 'https://api.spotify.com/v1/search?query=genre%3A+hip+hop&type=artist&offset=10&limit=10',\n",
       " 'offset': 0,\n",
       " 'previous': None,\n",
       " 'total': 12}"
      ]
     },
     "execution_count": 54,
     "metadata": {},
     "output_type": "execute_result"
    }
   ],
   "source": [
    "results['artists']"
   ]
  },
  {
   "cell_type": "code",
   "execution_count": 13,
   "metadata": {},
   "outputs": [
    {
     "data": {
      "text/plain": [
       "dict_keys(['album', 'artists', 'available_markets', 'disc_number', 'duration_ms', 'explicit', 'external_ids', 'external_urls', 'href', 'id', 'is_local', 'name', 'popularity', 'preview_url', 'track_number', 'type', 'uri'])"
      ]
     },
     "execution_count": 13,
     "metadata": {},
     "output_type": "execute_result"
    }
   ],
   "source": [
    "results['tracks']['items'][0].keys()"
   ]
  },
  {
   "cell_type": "code",
   "execution_count": 16,
   "metadata": {},
   "outputs": [
    {
     "data": {
      "text/plain": [
       "'Mood (feat. iann dior)'"
      ]
     },
     "execution_count": 16,
     "metadata": {},
     "output_type": "execute_result"
    }
   ],
   "source": [
    "results['tracks']['items'][0]['name']"
   ]
  },
  {
   "cell_type": "code",
   "execution_count": 18,
   "metadata": {},
   "outputs": [
    {
     "data": {
      "text/plain": [
       "17"
      ]
     },
     "execution_count": 18,
     "metadata": {},
     "output_type": "execute_result"
    }
   ],
   "source": [
    "len(results['tracks']['items'][1])"
   ]
  },
  {
   "cell_type": "code",
   "execution_count": 15,
   "metadata": {},
   "outputs": [
    {
     "data": {
      "text/plain": [
       "[{'external_urls': {'spotify': 'https://open.spotify.com/artist/6fWVd57NKTalqvmjRd2t8Z'},\n",
       "  'href': 'https://api.spotify.com/v1/artists/6fWVd57NKTalqvmjRd2t8Z',\n",
       "  'id': '6fWVd57NKTalqvmjRd2t8Z',\n",
       "  'name': '24kGoldn',\n",
       "  'type': 'artist',\n",
       "  'uri': 'spotify:artist:6fWVd57NKTalqvmjRd2t8Z'},\n",
       " {'external_urls': {'spotify': 'https://open.spotify.com/artist/6ASri4ePR7RlsvIQgWPJpS'},\n",
       "  'href': 'https://api.spotify.com/v1/artists/6ASri4ePR7RlsvIQgWPJpS',\n",
       "  'id': '6ASri4ePR7RlsvIQgWPJpS',\n",
       "  'name': 'iann dior',\n",
       "  'type': 'artist',\n",
       "  'uri': 'spotify:artist:6ASri4ePR7RlsvIQgWPJpS'}]"
      ]
     },
     "execution_count": 15,
     "metadata": {},
     "output_type": "execute_result"
    }
   ],
   "source": [
    "results['tracks']['items'][0]['artists']"
   ]
  },
  {
   "cell_type": "code",
   "execution_count": 23,
   "metadata": {},
   "outputs": [
    {
     "data": {
      "text/plain": [
       "{'genres': ['acoustic',\n",
       "  'afrobeat',\n",
       "  'alt-rock',\n",
       "  'alternative',\n",
       "  'ambient',\n",
       "  'anime',\n",
       "  'black-metal',\n",
       "  'bluegrass',\n",
       "  'blues',\n",
       "  'bossanova',\n",
       "  'brazil',\n",
       "  'breakbeat',\n",
       "  'british',\n",
       "  'cantopop',\n",
       "  'chicago-house',\n",
       "  'children',\n",
       "  'chill',\n",
       "  'classical',\n",
       "  'club',\n",
       "  'comedy',\n",
       "  'country',\n",
       "  'dance',\n",
       "  'dancehall',\n",
       "  'death-metal',\n",
       "  'deep-house',\n",
       "  'detroit-techno',\n",
       "  'disco',\n",
       "  'disney',\n",
       "  'drum-and-bass',\n",
       "  'dub',\n",
       "  'dubstep',\n",
       "  'edm',\n",
       "  'electro',\n",
       "  'electronic',\n",
       "  'emo',\n",
       "  'folk',\n",
       "  'forro',\n",
       "  'french',\n",
       "  'funk',\n",
       "  'garage',\n",
       "  'german',\n",
       "  'gospel',\n",
       "  'goth',\n",
       "  'grindcore',\n",
       "  'groove',\n",
       "  'grunge',\n",
       "  'guitar',\n",
       "  'happy',\n",
       "  'hard-rock',\n",
       "  'hardcore',\n",
       "  'hardstyle',\n",
       "  'heavy-metal',\n",
       "  'hip-hop',\n",
       "  'holidays',\n",
       "  'honky-tonk',\n",
       "  'house',\n",
       "  'idm',\n",
       "  'indian',\n",
       "  'indie',\n",
       "  'indie-pop',\n",
       "  'industrial',\n",
       "  'iranian',\n",
       "  'j-dance',\n",
       "  'j-idol',\n",
       "  'j-pop',\n",
       "  'j-rock',\n",
       "  'jazz',\n",
       "  'k-pop',\n",
       "  'kids',\n",
       "  'latin',\n",
       "  'latino',\n",
       "  'malay',\n",
       "  'mandopop',\n",
       "  'metal',\n",
       "  'metal-misc',\n",
       "  'metalcore',\n",
       "  'minimal-techno',\n",
       "  'movies',\n",
       "  'mpb',\n",
       "  'new-age',\n",
       "  'new-release',\n",
       "  'opera',\n",
       "  'pagode',\n",
       "  'party',\n",
       "  'philippines-opm',\n",
       "  'piano',\n",
       "  'pop',\n",
       "  'pop-film',\n",
       "  'post-dubstep',\n",
       "  'power-pop',\n",
       "  'progressive-house',\n",
       "  'psych-rock',\n",
       "  'punk',\n",
       "  'punk-rock',\n",
       "  'r-n-b',\n",
       "  'rainy-day',\n",
       "  'reggae',\n",
       "  'reggaeton',\n",
       "  'road-trip',\n",
       "  'rock',\n",
       "  'rock-n-roll',\n",
       "  'rockabilly',\n",
       "  'romance',\n",
       "  'sad',\n",
       "  'salsa',\n",
       "  'samba',\n",
       "  'sertanejo',\n",
       "  'show-tunes',\n",
       "  'singer-songwriter',\n",
       "  'ska',\n",
       "  'sleep',\n",
       "  'songwriter',\n",
       "  'soul',\n",
       "  'soundtracks',\n",
       "  'spanish',\n",
       "  'study',\n",
       "  'summer',\n",
       "  'swedish',\n",
       "  'synth-pop',\n",
       "  'tango',\n",
       "  'techno',\n",
       "  'trance',\n",
       "  'trip-hop',\n",
       "  'turkish',\n",
       "  'work-out',\n",
       "  'world-music']}"
      ]
     },
     "execution_count": 23,
     "metadata": {},
     "output_type": "execute_result"
    }
   ],
   "source": [
    "sp.recommendation_genre_seeds()"
   ]
  },
  {
   "cell_type": "markdown",
   "metadata": {},
   "source": [
    "## Topic 2 <a class=\"anchor\" id=\"topic-2\"></a>\n",
    "<hr/>"
   ]
  },
  {
   "cell_type": "code",
   "execution_count": null,
   "metadata": {},
   "outputs": [],
   "source": []
  }
 ],
 "metadata": {
  "kernelspec": {
   "display_name": "Python 3",
   "language": "python",
   "name": "python3"
  },
  "language_info": {
   "codemirror_mode": {
    "name": "ipython",
    "version": 3
   },
   "file_extension": ".py",
   "mimetype": "text/x-python",
   "name": "python",
   "nbconvert_exporter": "python",
   "pygments_lexer": "ipython3",
   "version": "3.8.5"
  }
 },
 "nbformat": 4,
 "nbformat_minor": 4
}
