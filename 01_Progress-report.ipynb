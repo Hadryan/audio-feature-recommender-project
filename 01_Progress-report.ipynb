{
 "cells": [
  {
   "cell_type": "markdown",
   "metadata": {},
   "source": [
    "# Capstone Project\n",
    "## *Progress Report*\n",
    "\n",
    "In this notebook:\n",
    "\n",
    "* [Problem Statement](#problem-statement)\n",
    "* [Exploring Spotify API Output via Spotipy](#explore-spotipy)\n",
    "\n",
    "## Project Goals <a class=\"anchor\" id=\"problem-statement\"></a>\n",
    "<hr/>\n",
    "\n",
    "\n",
    "\n",
    "## Data <a class=\"anchor\" id=\"problem-statement\"></a>\n",
    "<hr/>\n",
    "\n",
    "\n",
    "## Deliverables <a class=\"anchor\" id=\"problem-statement\"></a>\n",
    "<hr/>\n",
    "\n",
    "\n",
    "## Conclusions <a class=\"anchor\" id=\"problem-statement\"></a>\n",
    "<hr/>\n",
    "\n",
    "## Future Work <a class=\"anchor\" id=\"problem-statement\"></a>\n",
    "<hr/>\n"
   ]
  },
  {
   "cell_type": "code",
   "execution_count": null,
   "metadata": {},
   "outputs": [],
   "source": []
  }
 ],
 "metadata": {
  "kernelspec": {
   "display_name": "Python 3",
   "language": "python",
   "name": "python3"
  },
  "language_info": {
   "codemirror_mode": {
    "name": "ipython",
    "version": 3
   },
   "file_extension": ".py",
   "mimetype": "text/x-python",
   "name": "python",
   "nbconvert_exporter": "python",
   "pygments_lexer": "ipython3",
   "version": "3.8.5"
  }
 },
 "nbformat": 4,
 "nbformat_minor": 4
}
